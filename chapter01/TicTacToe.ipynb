{
 "cells": [
  {
   "cell_type": "code",
   "execution_count": 1,
   "metadata": {
    "collapsed": true
   },
   "outputs": [],
   "source": [
    "#######################################################################\n",
    "# Copyright (C)                                                       #\n",
    "# 2016 Shangtong Zhang(zhangshangtong.cpp@gmail.com)                  #\n",
    "# 2016 Jan Hakenberg(jan.hakenberg@gmail.com)                         #\n",
    "# 2016 Tian Jun(tianjun.cpp@gmail.com)                                #\n",
    "# 2016 Kenta Shimada(hyperkentakun@gmail.com)                         #\n",
    "# Permission given to modify the code as long as you keep this        #\n",
    "# declaration at the top                                              #\n",
    "#######################################################################\n",
    "#######################################################################\n",
    "# Copyright (C)                                                       #\n",
    "# 2017 Cheung Auyeung (yellowlab9@gmail.com)                          #                        \n",
    "# Permission given to modify the code as long as you keep this        #\n",
    "# declaration at the top                                              #\n",
    "#######################################################################"
   ]
  },
  {
   "cell_type": "code",
   "execution_count": 2,
   "metadata": {
    "collapsed": true
   },
   "outputs": [],
   "source": [
    "from __future__ import print_function\n",
    "import numpy as np\n",
    "import pickle\n",
    "from IPython.display import clear_output\n",
    "import sys"
   ]
  },
  {
   "cell_type": "code",
   "execution_count": 3,
   "metadata": {
    "collapsed": true
   },
   "outputs": [],
   "source": [
    "BOARD_ROWS = 3\n",
    "BOARD_COLS = 3\n",
    "BOARD_SIZE = BOARD_ROWS * BOARD_COLS"
   ]
  },
  {
   "cell_type": "code",
   "execution_count": 4,
   "metadata": {
    "collapsed": true
   },
   "outputs": [],
   "source": [
    "class State:\n",
    "    def __init__(self):\n",
    "        # the board is represented by a n * n array,\n",
    "        # 1 represents chessman of the player who moves first,\n",
    "        # -1 represents chessman of another player\n",
    "        # 0 represents empty position\n",
    "        self.board = np.zeros((BOARD_ROWS, BOARD_COLS))\n",
    "        self.winner = None\n",
    "        self.hashVal = None\n",
    "        self.end = None\n",
    "\n",
    "    # Calculate the hash value for one state, it's unique\n",
    "    # The hash value is an 18 bits representation of the board\n",
    "    # Each board position has two bits, with one bit per player.\n",
    "    def getHash(self):\n",
    "        if self.hashVal is None:\n",
    "            self.hashVal = 0\n",
    "            for i in self.board.reshape(BOARD_ROWS * BOARD_COLS):\n",
    "                if i == -1:\n",
    "                    i = 2\n",
    "                self.hashVal = self.hashVal * 4 + i\n",
    "        return int(self.hashVal)\n",
    "\n",
    "    # determine whether a player has won the game, or it's a tie\n",
    "    def isEnd(self):\n",
    "        if self.end is not None:\n",
    "            return self.end\n",
    "        \n",
    "        results = []\n",
    "        # check row\n",
    "        for i in range(0, BOARD_ROWS):\n",
    "            results.append(np.sum(self.board[i, :]))\n",
    "            \n",
    "        # check columns\n",
    "        for i in range(0, BOARD_COLS):\n",
    "            results.append(np.sum(self.board[:, i]))\n",
    "            \n",
    "        # check diagonals\n",
    "        results.append(0)\n",
    "        for i in range(0, BOARD_ROWS):\n",
    "            results[-1] += self.board[i, i]\n",
    "            \n",
    "        results.append(0)\n",
    "        for i in range(0, BOARD_ROWS):\n",
    "            results[-1] += self.board[i, BOARD_ROWS - 1 - i]\n",
    "\n",
    "        for result in results:\n",
    "            if result == 3:\n",
    "                self.winner = 1\n",
    "                self.end = True\n",
    "                return self.end\n",
    "            if result == -3:\n",
    "                self.winner = -1\n",
    "                self.end = True\n",
    "                return self.end\n",
    "\n",
    "        # whether it's a tie\n",
    "        sum = np.sum(np.abs(self.board))\n",
    "        if sum == BOARD_ROWS * BOARD_COLS:\n",
    "            self.winner = 0\n",
    "            self.end = True\n",
    "            return self.end\n",
    "\n",
    "        # game is still going on\n",
    "        self.end = False\n",
    "        return self.end\n",
    "\n",
    "    # @symbol 1 or -1\n",
    "    # put chessman symbol in position (i, j)\n",
    "    def nextState(self, i, j, symbol):\n",
    "        newState = State()\n",
    "        newState.board = np.copy(self.board)\n",
    "        newState.board[i, j] = symbol\n",
    "        return newState\n",
    "\n",
    "    # print the board\n",
    "    def show(self):\n",
    "        for i in range(0, BOARD_ROWS):\n",
    "            print('-------------')\n",
    "            out = '| '\n",
    "            for j in range(0, BOARD_COLS):\n",
    "                if self.board[i, j] == 1:\n",
    "                    token = 'x'\n",
    "                if self.board[i, j] == 0:\n",
    "                    token = '.'\n",
    "                if self.board[i, j] == -1:\n",
    "                    token = 'o'\n",
    "                out += token + ' | '\n",
    "            print(out)\n",
    "        print('-------------')"
   ]
  },
  {
   "cell_type": "markdown",
   "metadata": {},
   "source": [
    "Find all possible state of the the game and keep it in the list `allStates`."
   ]
  },
  {
   "cell_type": "code",
   "execution_count": 5,
   "metadata": {
    "collapsed": true
   },
   "outputs": [],
   "source": [
    "def getAllStatesImpl(currentState, currentSymbol, allStates):\n",
    "    for i in range(0, BOARD_ROWS):\n",
    "        for j in range(0, BOARD_COLS):\n",
    "            if currentState.board[i][j] == 0:\n",
    "                newState = currentState.nextState(i, j, currentSymbol)\n",
    "                newHash = newState.getHash()\n",
    "                if newHash not in allStates.keys():\n",
    "                    isEnd = newState.isEnd()\n",
    "                    allStates[newHash] = (newState, isEnd)\n",
    "                    if not isEnd:\n",
    "                        getAllStatesImpl(newState, -currentSymbol, allStates)\n",
    "\n",
    "def getAllStates():\n",
    "    currentSymbol = 1\n",
    "    currentState = State()\n",
    "    allStates = dict()\n",
    "    allStates[currentState.getHash()] = (currentState, currentState.isEnd())\n",
    "    getAllStatesImpl(currentState, currentSymbol, allStates)\n",
    "    return allStates\n",
    "\n",
    "# all possible board configurations\n",
    "allStates = getAllStates()"
   ]
  },
  {
   "cell_type": "markdown",
   "metadata": {},
   "source": [
    "Print the mapping of the state as an 18 bits binary code. Also print the state as a 3 by 3 grids."
   ]
  },
  {
   "cell_type": "code",
   "execution_count": 6,
   "metadata": {},
   "outputs": [
    {
     "name": "stdout",
     "output_type": "stream",
     "text": [
      "000000000000000000\n",
      "-------------\n",
      "| . | . | . | \n",
      "-------------\n",
      "| . | . | . | \n",
      "-------------\n",
      "| . | . | . | \n",
      "-------------\n",
      "\n",
      "010000000000000000\n",
      "-------------\n",
      "| x | . | . | \n",
      "-------------\n",
      "| . | . | . | \n",
      "-------------\n",
      "| . | . | . | \n",
      "-------------\n",
      "\n",
      "010000000000000010\n",
      "-------------\n",
      "| x | . | . | \n",
      "-------------\n",
      "| . | . | . | \n",
      "-------------\n",
      "| . | . | o | \n",
      "-------------\n",
      "\n",
      "000000000000000100\n",
      "-------------\n",
      "| . | . | . | \n",
      "-------------\n",
      "| . | . | . | \n",
      "-------------\n",
      "| . | x | . | \n",
      "-------------\n",
      "\n"
     ]
    }
   ],
   "source": [
    "for i in allStates.keys()[:4] :\n",
    "    print(\"{0:018b}\".format(i))\n",
    "    allStates[i][0].show()\n",
    "    print()"
   ]
  },
  {
   "cell_type": "code",
   "execution_count": 7,
   "metadata": {
    "collapsed": true
   },
   "outputs": [],
   "source": [
    "class Judger:\n",
    "    # @player1: player who will move first, its chessman will be 1\n",
    "    # @player2: another player with chessman -1\n",
    "    def __init__(self, player1, player2):\n",
    "        self.p1 = player1\n",
    "        self.p2 = player2\n",
    "        self.currentPlayer = None\n",
    "        self.p1Symbol = 1\n",
    "        self.p2Symbol = -1\n",
    "        self.p1.setSymbol(self.p1Symbol)\n",
    "        self.p2.setSymbol(self.p2Symbol)\n",
    "        self.currentState = State()\n",
    "        self.allStates = allStates\n",
    "\n",
    "    # give reward to two players at the end of a game\n",
    "    def giveReward(self):\n",
    "        if self.currentState.winner == self.p1Symbol:\n",
    "            self.p1.feedReward(1)\n",
    "            self.p2.feedReward(0)\n",
    "        elif self.currentState.winner == self.p2Symbol:\n",
    "            self.p1.feedReward(0)\n",
    "            self.p2.feedReward(1)\n",
    "        else:\n",
    "            self.p1.feedReward(0.1)\n",
    "            self.p2.feedReward(0.5)\n",
    "\n",
    "    def feedCurrentState(self):\n",
    "        self.p1.feedState(self.currentState)\n",
    "        self.p2.feedState(self.currentState)\n",
    "\n",
    "    def reset(self):\n",
    "        self.p1.reset()\n",
    "        self.p2.reset()\n",
    "        self.currentState = State()\n",
    "        self.currentPlayer = None\n",
    "\n",
    "    # @show: if True, print each board during the game\n",
    "    def play(self, show=False):\n",
    "        self.reset()\n",
    "        self.feedCurrentState()\n",
    "        while True:\n",
    "            # set current player\n",
    "            if self.currentPlayer == self.p1:\n",
    "                self.currentPlayer = self.p2\n",
    "            else:\n",
    "                self.currentPlayer = self.p1\n",
    "            if show:\n",
    "                self.currentState.show()\n",
    "            [i, j, symbol] = self.currentPlayer.takeAction()\n",
    "            self.currentState = self.currentState.nextState(i, j, symbol)\n",
    "            hashValue = self.currentState.getHash()\n",
    "            self.currentState, isEnd = self.allStates[hashValue]\n",
    "            self.feedCurrentState()\n",
    "            if isEnd:\n",
    "                return self.currentState.winner"
   ]
  },
  {
   "cell_type": "markdown",
   "metadata": {},
   "source": [
    "## AI player"
   ]
  },
  {
   "cell_type": "code",
   "execution_count": 8,
   "metadata": {
    "collapsed": true
   },
   "outputs": [],
   "source": [
    "class Player:\n",
    "    # @stepSize: step size to update estimations\n",
    "    # @exploreRate: possibility to explore\n",
    "    def __init__(self, stepSize = 0.1, exploreRate=0.1):\n",
    "        self.allStates = allStates\n",
    "        self.estimations = dict()\n",
    "        self.stepSize = stepSize\n",
    "        self.exploreRate = exploreRate\n",
    "        self.states = []\n",
    "\n",
    "    def reset(self):\n",
    "        self.states = []\n",
    "\n",
    "    def setSymbol(self, symbol):\n",
    "        self.symbol = symbol\n",
    "        for hash in self.allStates.keys():\n",
    "            (state, isEnd) = self.allStates[hash]\n",
    "            if isEnd:\n",
    "                if state.winner == self.symbol:\n",
    "                    self.estimations[hash] = 1.0\n",
    "                else:\n",
    "                    self.estimations[hash] = 0\n",
    "            else:\n",
    "                self.estimations[hash] = 0.5\n",
    "\n",
    "    # accept a state\n",
    "    def feedState(self, state):\n",
    "        self.states.append(state)\n",
    "\n",
    "    # update estimation according to reward after playing a game\n",
    "    def feedReward(self, reward):\n",
    "        if len(self.states) == 0:\n",
    "            return\n",
    "        self.states = [state.getHash() for state in self.states]\n",
    "        target = reward\n",
    "        for latestState in reversed(self.states):\n",
    "            value = self.estimations[latestState] + \\\n",
    "                self.stepSize * (target - self.estimations[latestState])\n",
    "            self.estimations[latestState] = value\n",
    "            target = value\n",
    "        self.states = []\n",
    "\n",
    "    # determine next action according to the current state\n",
    "    def takeAction(self):\n",
    "        state = self.states[-1]\n",
    "        nextStates = []\n",
    "        nextPositions = []\n",
    "        for i in range(BOARD_ROWS):\n",
    "            for j in range(BOARD_COLS):\n",
    "                if state.board[i, j] == 0:\n",
    "                    nextPositions.append([i, j])\n",
    "                    nextStates.append(state.nextState(i, j, self.symbol).getHash())\n",
    "        if np.random.binomial(1, self.exploreRate):\n",
    "            np.random.shuffle(nextPositions)\n",
    "            # Not sure if truncating is the best way to deal with exploratory step\n",
    "            # Maybe it's better to only skip this step rather than forget all the history\n",
    "            self.states = []\n",
    "            action = nextPositions[0]\n",
    "            action.append(self.symbol)\n",
    "            return action\n",
    "\n",
    "\n",
    "        # find the probability of winning at all possible next positions\n",
    "        values = []\n",
    "        for hash, pos in zip(nextStates, nextPositions):\n",
    "            values.append((self.estimations[hash], pos))\n",
    "\n",
    "        # Select the next position with the highest probability of winning.\n",
    "        # If multiple next positions have the same highest probability, \n",
    "        # select one of them in random.            \n",
    "        np.random.shuffle(values)\n",
    "        values.sort(key=lambda x: x[0], reverse=True)\n",
    "\n",
    "        # Return the action leading to the selected next position\n",
    "        action = values[0][1]\n",
    "        action.append(self.symbol)\n",
    "        return action\n",
    "\n",
    "    def savePolicy(self):\n",
    "        fw = open('optimal_policy_' + str(self.symbol), 'wb')\n",
    "        pickle.dump(self.estimations, fw)\n",
    "        fw.close()\n",
    "\n",
    "    def loadPolicy(self):\n",
    "        fr = open('optimal_policy_' + str(self.symbol),'rb')\n",
    "        self.estimations = pickle.load(fr)\n",
    "        fr.close()"
   ]
  },
  {
   "cell_type": "markdown",
   "metadata": {},
   "source": [
    "## Human interface\n",
    "\n",
    "Input a number to put a chessman on the board according to the following positions on the board:\n",
    "```\n",
    "| 1 | 2 | 3 |\n",
    "| 4 | 5 | 6 |\n",
    "| 7 | 8 | 9 |\n",
    "```"
   ]
  },
  {
   "cell_type": "code",
   "execution_count": 9,
   "metadata": {
    "collapsed": true
   },
   "outputs": [],
   "source": [
    "class HumanPlayer:\n",
    "    def __init__(self, stepSize = 0.1, exploreRate=0.1):\n",
    "        self.symbol = None\n",
    "        self.currentState = None\n",
    "        return\n",
    "    def reset(self):\n",
    "        return\n",
    "    def setSymbol(self, symbol):\n",
    "        self.symbol = symbol\n",
    "        return\n",
    "    def feedState(self, state):\n",
    "        self.currentState = state\n",
    "        return\n",
    "    def feedReward(self, reward):\n",
    "        return\n",
    "    def takeAction(self):\n",
    "        data = int(input(\"Input your position:\"))\n",
    "        clear_output(wait=True)\n",
    "        data -= 1\n",
    "        i = data // int(BOARD_COLS)\n",
    "        j = data % BOARD_COLS\n",
    "        if self.currentState.board[i, j] != 0:\n",
    "            return self.takeAction()\n",
    "        return (i, j, self.symbol)"
   ]
  },
  {
   "cell_type": "markdown",
   "metadata": {},
   "source": [
    "Train two players to play against each other by playing the game multiple rounds.  "
   ]
  },
  {
   "cell_type": "code",
   "execution_count": 10,
   "metadata": {
    "collapsed": true
   },
   "outputs": [],
   "source": [
    "def train(epochs=20000):\n",
    "    player1 = Player()\n",
    "    player2 = Player()\n",
    "    judger = Judger(player1, player2)\n",
    "    \n",
    "    player1Win = 0.0\n",
    "    player2Win = 0.0\n",
    "    playersTie = 0.0\n",
    "    for i in range(0, epochs):\n",
    "        if (i%5000 == 0) :\n",
    "            print(\"Epoch\", i)\n",
    "            \n",
    "        winner = judger.play()        \n",
    "        if winner == 1:\n",
    "            player1Win += 1\n",
    "        elif winner == -1:\n",
    "            player2Win += 1\n",
    "        else :\n",
    "            playersTie += 1\n",
    "            \n",
    "        judger.giveReward()\n",
    "        judger.reset()\n",
    "\n",
    "    print(\"Epoch\", epochs-1)\n",
    "    print(\"ratio of player1Win = \", player1Win / epochs)\n",
    "    print(\"ratio of player2Win = \", player2Win / epochs)\n",
    "    print(\"ratio of playersTie = \", playersTie / epochs)    \n",
    "    player1.savePolicy()\n",
    "    player2.savePolicy()"
   ]
  },
  {
   "cell_type": "code",
   "execution_count": 11,
   "metadata": {
    "collapsed": true
   },
   "outputs": [],
   "source": [
    "def compete(turns=500):\n",
    "    player1 = Player(exploreRate=0)\n",
    "    player2 = Player(exploreRate=0)\n",
    "    judger = Judger(player1, player2)\n",
    "    player1.loadPolicy()\n",
    "    player2.loadPolicy()\n",
    "    \n",
    "    player1Win = 0.0\n",
    "    player2Win = 0.0\n",
    "    playersTie = 0.0\n",
    "    for i in range(0, turns):\n",
    "        if i%100 == 0 :\n",
    "            print(\"Epoch\", i)\n",
    "            \n",
    "        winner = judger.play()\n",
    "        if winner == 1:\n",
    "            player1Win += 1\n",
    "        elif winner == -1:\n",
    "            player2Win += 1\n",
    "        else :\n",
    "            playersTie += 1\n",
    "            \n",
    "        judger.reset()\n",
    "        \n",
    "    print(\"Epoch\", turns-1)\n",
    "    print(\"ratio of player1Win = \", player1Win / turns)\n",
    "    print(\"ratio of player2Win = \", player2Win / turns)\n",
    "    print(\"ratio of playersTie = \", playersTie / turns)    "
   ]
  },
  {
   "cell_type": "code",
   "execution_count": 12,
   "metadata": {
    "collapsed": true
   },
   "outputs": [],
   "source": [
    "def play():\n",
    "    while True:\n",
    "        player1 = Player(exploreRate=0)\n",
    "        player2 = HumanPlayer()\n",
    "        judger = Judger(player1, player2)\n",
    "        player1.loadPolicy()\n",
    "        winner = judger.play(True)\n",
    "        judger.currentState.show()\n",
    "        if winner == player2.symbol:\n",
    "            print(\"Win!\")\n",
    "        elif winner == player1.symbol:\n",
    "            print(\"Lose!\")\n",
    "        else:\n",
    "            print(\"Tie!\")\n",
    "        sys.stdout.flush()\n",
    "        data = raw_input(\"Play Again? Hit return to play or otherwise to quit: \")\n",
    "        if data != \"\":\n",
    "            print(\"Thank you for playing. Bye!\")\n",
    "            break\n",
    "        else:\n",
    "            clear_output(wait=True)"
   ]
  },
  {
   "cell_type": "code",
   "execution_count": 13,
   "metadata": {},
   "outputs": [
    {
     "name": "stdout",
     "output_type": "stream",
     "text": [
      "Epoch 0\n",
      "Epoch 5000\n",
      "Epoch 10000\n",
      "Epoch 15000\n",
      "Epoch 19999\n",
      "ratio of player1Win =  0.2184\n",
      "ratio of player2Win =  0.2563\n",
      "ratio of playersTie =  0.5253\n"
     ]
    }
   ],
   "source": [
    "train()"
   ]
  },
  {
   "cell_type": "code",
   "execution_count": 14,
   "metadata": {},
   "outputs": [
    {
     "name": "stdout",
     "output_type": "stream",
     "text": [
      "Epoch 0\n",
      "Epoch 100\n",
      "Epoch 200\n",
      "Epoch 300\n",
      "Epoch 400\n",
      "Epoch 499\n",
      "ratio of player1Win =  0.0\n",
      "ratio of player2Win =  0.0\n",
      "ratio of playersTie =  1.0\n"
     ]
    }
   ],
   "source": [
    "compete()"
   ]
  },
  {
   "cell_type": "code",
   "execution_count": 15,
   "metadata": {},
   "outputs": [
    {
     "name": "stdout",
     "output_type": "stream",
     "text": [
      "-------------\n",
      "| x | o | x | \n",
      "-------------\n",
      "| o | o | x | \n",
      "-------------\n",
      "| . | x | o | \n",
      "-------------\n",
      "-------------\n",
      "| x | o | x | \n",
      "-------------\n",
      "| o | o | x | \n",
      "-------------\n",
      "| x | x | o | \n",
      "-------------\n",
      "Tie!\n",
      "Play Again? Hit return to play or otherwise to quit: q\n",
      "Thank you for playing. Bye!\n"
     ]
    }
   ],
   "source": [
    "play()"
   ]
  }
 ],
 "metadata": {
  "kernelspec": {
   "display_name": "Python 2",
   "language": "python",
   "name": "python2"
  },
  "language_info": {
   "codemirror_mode": {
    "name": "ipython",
    "version": 2
   },
   "file_extension": ".py",
   "mimetype": "text/x-python",
   "name": "python",
   "nbconvert_exporter": "python",
   "pygments_lexer": "ipython2",
   "version": "2.7.13"
  }
 },
 "nbformat": 4,
 "nbformat_minor": 2
}
