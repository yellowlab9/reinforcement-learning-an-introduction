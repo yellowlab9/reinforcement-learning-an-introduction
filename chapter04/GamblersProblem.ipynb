{
 "cells": [
  {
   "cell_type": "code",
   "execution_count": null,
   "metadata": {
    "collapsed": true
   },
   "outputs": [],
   "source": [
    "#######################################################################\n",
    "# Copyright (C)                                                       #\n",
    "# 2016 Shangtong Zhang(zhangshangtong.cpp@gmail.com)                  #\n",
    "# 2016 Kenta Shimada(hyperkentakun@gmail.com)                         #\n",
    "# Permission given to modify the code as long as you keep this        #\n",
    "# declaration at the top                                              #\n",
    "#######################################################################\n",
    "#######################################################################\n",
    "# Copyright (C)                                                       #\n",
    "# 2017 Cheung Auyeung(cheung.auyeung@gmail.com)                       #\n",
    "# Permission given to modify the code as long as you keep this        #\n",
    "# declaration at the top                                              #\n",
    "#######################################################################"
   ]
  },
  {
   "cell_type": "markdown",
   "metadata": {},
   "source": [
    "# Gambler’s Problem \n",
    "\n",
    "A gambler has the opportunity to make bets\n",
    "on the outcomes of a sequence of coin flips. \n",
    "\n",
    "- If the coin comes up heads, he wins as\n",
    "many dollars as he has staked on that flip; \n",
    "- if it is tails, he loses his stake.  \n",
    "\n",
    "The game ends when the gambler wins by reaching his `GOAL` of \\$100, or loses by running out of\n",
    "money. \n",
    "\n",
    "On each flip, the gambler must decide what portion of his capital to stake,\n",
    "in integer numbers of dollars. This problem can be formulated as an **undiscounted**,\n",
    "episodic, finite MDP. The state is the gambler’s capital, \n",
    "\n",
    "$$ s \\in \\{1, 2,\\ldots, 99\\}$$\n",
    "\n",
    "and the actions are stakes, \n",
    "\n",
    "$$a \\in \\{0, 1,  \\ldots \\min(s, 100−s) \\}.$$ \n",
    "\n",
    "The reward is zero on all transitions\n",
    "except those on which the gambler reaches his goal, when it is +1. \n",
    "\n",
    "The state-value function then gives the probability of winning from each state. \n",
    "\n",
    "A policy is a mapping\n",
    "from levels of capital to stakes. The optimal policy maximizes the probability of\n",
    "reaching the goal. \n",
    "\n",
    "Let $p_h$ denote the probability of the coin coming up heads. If $p_h$\n",
    "is known, then the entire problem is known and it can be solved, for instance, by\n",
    "value iteration.\n",
    "\n",
    "Figure 4.3 shows the change in the value function over successive\n",
    "sweeps of value iteration, and the final policy found, for the case of $p_h$ = 0.4. \n",
    "\n",
    "In programming, it is convenient\n",
    "to introduce two dummy states corresponding to termination with capital of 0 and\n",
    "100, giving them values of 0 and 1 respectively, so that,\n",
    "$$ s \\in \\{0, 1, 2,\\ldots, 100\\}$$"
   ]
  },
  {
   "cell_type": "markdown",
   "metadata": {},
   "source": [
    "The value function with the optimal policy is found by the\n",
    "Bellman optimalality equation for $v_\\ast(s)$, \n",
    "\n",
    "$$\n",
    "\\begin{align}\n",
    "v_\\ast(s)\\, &=\\, \\underset{a \\in A(s)}{\\mathrm{argmax}}\\, \\sum_{s',r} p(s',r\\,|\\,s,a) \\left[ r + \\gamma v_\\ast(s') \\right] \\\\\n",
    "{} &=\\, \n",
    "\\begin{cases}\n",
    "\\underset{a\\in A(s)}{\\mathrm{argmax}}\\, \\sum_{s'} p(s'\\,|\\,s,a)\\cdot v_\\ast(s')  & \\text{if}\\ s \\in \\{0,\\ldots,99\\}\\\\\n",
    "1, & \\text{otherwise},\\ s = 100\n",
    "\\end{cases}\n",
    "\\end{align}\n",
    "$$\n",
    "\n",
    "where $A(s) = \\{0, 1,  \\ldots \\min(s, 100−s) \\}$, $\\gamma = 1$, and\n",
    "\n",
    "$$\n",
    "r = \\begin{cases}\n",
    "0 & \\text{if}\\ s\\in \\{0,\\ldots,99\\} \\\\\n",
    "1 & \\text{otherwise,}\\ s= 100\n",
    "\\end{cases}\n",
    "$$\n"
   ]
  },
  {
   "cell_type": "markdown",
   "metadata": {},
   "source": [
    "For state $s=100$, the reward is $r=1$, and the transition probability is $p(s',r\\,|\\,s,a) = 1$, so that it shall stay at state $100$ with a probability of one to indicate that the probability of winning at $s=100$ is one, i.e., \n",
    "\n",
    "$$\n",
    "v_\\ast(s) = 1,\\qquad \\text{ if } s=100.\n",
    "$$\n",
    "\n",
    "For state $s\\ne100$, an action $a \\in A(s)$ (`actions`) has only two possible next states. The next state is either $s' = s+a$ with a probability of $p_h$ (`headProb`) or the next state is $s' = s-a$ with a probability of $1 - p_h$.  Therefore,\n",
    "\n",
    "$$\n",
    "v_\\ast(s)\\, =\\, \\underset{a\\in A(s)}{\\mathrm{argmax}}\\, \\Bigg( p_hv_\\ast(s+a) + (1-p_h)v_\\ast(s-a) \\Bigg), \\qquad \\text{if } s \\in \\{0,\\dots,99\\}.\n",
    "\n",
    "$$\n",
    "\n",
    "In this example, the above equation is solved by value interation:\n",
    "```python\n",
    "actionReturns = []\n",
    "for action in actions:\n",
    "    actionReturns.append(headProb * stateValue[state + action] + \\\n",
    "                        (1 - headProb) * stateValue[state - action])\n",
    "newValue = np.max(actionReturns)\n",
    "stateValue[state] = newValue\n",
    "```\n",
    "where `actions` is $A(s)$ and `stateValue[state]` is $v(s)$."
   ]
  },
  {
   "cell_type": "code",
   "execution_count": 1,
   "metadata": {
    "collapsed": true
   },
   "outputs": [],
   "source": [
    "from __future__ import print_function\n",
    "import numpy as np\n",
    "import matplotlib.pyplot as plt"
   ]
  },
  {
   "cell_type": "code",
   "execution_count": 2,
   "metadata": {
    "collapsed": true
   },
   "outputs": [],
   "source": [
    "# goal\n",
    "GOAL = 100"
   ]
  },
  {
   "cell_type": "code",
   "execution_count": 3,
   "metadata": {
    "collapsed": true
   },
   "outputs": [],
   "source": [
    "# all states, including state 0 and state 100\n",
    "states = np.arange(GOAL + 1)"
   ]
  },
  {
   "cell_type": "code",
   "execution_count": 4,
   "metadata": {},
   "outputs": [
    {
     "data": {
      "image/png": "[encoded data removed]",
      "text/plain": [
       "<matplotlib.figure.Figure at 0x8b0c550>"
      ]
     },
     "metadata": {},
     "output_type": "display_data"
    },
    {
     "data": {
      "image/png": "[encoded data removed]",
      "text/plain": [
       "<matplotlib.figure.Figure at 0x8cbd940>"
      ]
     },
     "metadata": {},
     "output_type": "display_data"
    }
   ],
   "source": [
    "# probability of head\n",
    "headProb = 0.4\n",
    "\n",
    "# optimal policy\n",
    "policy = np.zeros(GOAL + 1)\n",
    "\n",
    "# state value\n",
    "stateValue = np.zeros(GOAL + 1)\n",
    "stateValue[GOAL] = 1.0\n",
    "\n",
    "# value iteration\n",
    "sweep = 0\n",
    "while True:\n",
    "    delta = 0.0\n",
    "    for state in states[1:GOAL]:\n",
    "        # get possilbe actions for current state\n",
    "        actions = np.arange(min(state, GOAL - state) + 1)\n",
    "        actionReturns = []\n",
    "        for action in actions:\n",
    "            actionReturns.append(headProb * stateValue[state + action] + \\\n",
    "                                 (1 - headProb) * stateValue[state - action])\n",
    "        newValue = np.max(actionReturns)\n",
    "        delta += np.abs(stateValue[state] - newValue)\n",
    "        # update state value\n",
    "        stateValue[state] = newValue\n",
    "    if delta < 1e-9:\n",
    "        break\n",
    "\n",
    "# calculate the optimal policy\n",
    "for state in states[1:GOAL]:\n",
    "    actions = np.arange(min(state, GOAL - state) + 1)\n",
    "    actionReturns = []\n",
    "    for action in actions:\n",
    "        actionReturns.append(headProb * stateValue[state + action] + \\\n",
    "                             (1 - headProb) * stateValue[state - action])\n",
    "    # due to tie, can't reproduce the optimal policy in book\n",
    "    policy[state] = actions[np.argmax(actionReturns)]\n",
    "\n",
    "# figure 4.3\n",
    "plt.figure(1)\n",
    "plt.xlabel('Capital')\n",
    "plt.ylabel('Value estimates')\n",
    "plt.plot(stateValue)\n",
    "plt.figure(2)\n",
    "plt.scatter(states, policy)\n",
    "plt.xlabel('Capital')\n",
    "plt.ylabel('Final policy (stake)')\n",
    "plt.show()"
   ]
  },
  {
   "cell_type": "code",
   "execution_count": null,
   "metadata": {
    "collapsed": true
   },
   "outputs": [],
   "source": []
  }
 ],
 "metadata": {
  "kernelspec": {
   "display_name": "Python 2",
   "language": "python",
   "name": "python2"
  },
  "language_info": {
   "codemirror_mode": {
    "name": "ipython",
    "version": 2
   },
   "file_extension": ".py",
   "mimetype": "text/x-python",
   "name": "python",
   "nbconvert_exporter": "python",
   "pygments_lexer": "ipython2",
   "version": "2.7.13"
  }
 },
 "nbformat": 4,
 "nbformat_minor": 2
}
