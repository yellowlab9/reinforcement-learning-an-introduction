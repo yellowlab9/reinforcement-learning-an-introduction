{
 "cells": [
  {
   "cell_type": "code",
   "execution_count": 1,
   "metadata": {
    "collapsed": true
   },
   "outputs": [],
   "source": [
    "#######################################################################\n",
    "# Copyright (C)                                                       #\n",
    "# 2016 Shangtong Zhang(zhangshangtong.cpp@gmail.com)                  #\n",
    "# 2016 Kenta Shimada(hyperkentakun@gmail.com)                         #\n",
    "# 2017 Aja Rangaswamy (aja004@gmail.com)                              #\n",
    "# Permission given to modify the code as long as you keep this        #\n",
    "# declaration at the top                                              #\n",
    "#######################################################################\n",
    "#######################################################################\n",
    "# Copyright (C)                                                       #\n",
    "# 2017 Cheung Auyeung(cheung.auyeung@gmail.com)                       #\n",
    "# Permission given to modify the code as long as you keep this        #\n",
    "# declaration at the top                                              #\n",
    "#######################################################################"
   ]
  },
  {
   "cell_type": "markdown",
   "metadata": {},
   "source": [
    "Figure 4.2 shows the sequence of policies found by policy iteration starting from the\n",
    "policy that never moves any cars."
   ]
  },
  {
   "cell_type": "code",
   "execution_count": 2,
   "metadata": {
    "collapsed": true
   },
   "outputs": [],
   "source": [
    "from __future__ import print_function\n",
    "import numpy as np\n",
    "import matplotlib.pyplot as plt\n",
    "from mpl_toolkits.mplot3d import Axes3D\n",
    "from math import *\n",
    "import time "
   ]
  },
  {
   "cell_type": "code",
   "execution_count": 3,
   "metadata": {
    "collapsed": true
   },
   "outputs": [],
   "source": [
    "def timeit(method):\n",
    "    def timed(*args, **kw):\n",
    "        _ts = time.time()\n",
    "        result = method(*args, **kw)\n",
    "        _te = time.time()\n",
    "\n",
    "        print('%r  %2.2f s' % \\\n",
    "            (method.__name__, (_te - _ts) ))\n",
    "        return result\n",
    "\n",
    "    return timed"
   ]
  },
  {
   "cell_type": "markdown",
   "metadata": {},
   "source": [
    "# Example 4.2 Car Rental \n",
    "\n",
    "Jack’s Car Rental Jack manages **two locations** for a nationwide\n",
    "car rental company. Each day, some number of customers arrive at each location\n",
    "to rent cars. \n",
    "\n",
    "If Jack has a car available, he rents it out and is **credited \\$10** (`RENTAL_CREDIT`) per car rented by the\n",
    "national company. If he is out of cars at that location, then the business is lost.\n",
    "Cars become available for renting the day after they are returned. \n",
    "\n",
    "To help ensure\n",
    "that cars are available where they are needed, Jack can move them between the two\n",
    "locations overnight, at a **cost of \\$2** (`MOVE_CAR_COST`) per car moved. \n",
    "\n",
    "We assume that the number of\n",
    "cars **requested and returned** at each location are ***Poisson random variables***, meaning\n",
    "that the probability that the number is n is $\\frac{\\lambda^n}{n!}e^{-\\lambda}$, \n",
    "where $\\lambda$ is the expected number.\n",
    "Suppose $\\lambda$ is\n",
    "- 3 (`RENTAL_REQUEST_FIRST_LOC`) and 4 (`RENTAL_REQUEST_SECOND_LOC`) for rental requests at the first and second locations and \n",
    "- 3 (`RETURNS_FIRST_LOC`) and 2 (`RETURNS_SECOND_LOC`) for returns. \n",
    "\n",
    "To simplify the problem slightly, we assume that there can be **no more\n",
    "than 20** cars (`MAX_CARS`) at each location (any **additional cars** are returned to the nationwide\n",
    "company, and thus ***disappear*** from the problem) and a **maximum of five cars** (`MAX_MOVE_OF_CARS`) can\n",
    "be moved from one location to the other in one night. \n",
    "\n",
    "We take the **discount rateto be $\\gamma = 0.9$** (`DISCOUNT `) and formulate this as a continuing finite MDP, where \n",
    "- the **time steps** are days, \n",
    "- the **state** is the number of cars at each location at the **end of the day**, and\n",
    "- the **actions** are the net numbers of cars moved between the two locations **overnight**."
   ]
  },
  {
   "cell_type": "code",
   "execution_count": 4,
   "metadata": {
    "collapsed": true
   },
   "outputs": [],
   "source": [
    "# maximum # of cars in each location\n",
    "MAX_CARS = 20\n",
    "\n",
    "# maximum # of cars to move during night\n",
    "MAX_MOVE_OF_CARS = 5\n",
    "\n",
    "# expectation for rental requests in first location\n",
    "RENTAL_REQUEST_FIRST_LOC = 3\n",
    "\n",
    "# expectation for rental requests in second location\n",
    "RENTAL_REQUEST_SECOND_LOC = 4\n",
    "\n",
    "# expectation for # of cars returned in first location\n",
    "RETURNS_FIRST_LOC = 3\n",
    "\n",
    "# expectation for # of cars returned in second location\n",
    "RETURNS_SECOND_LOC = 2\n",
    "\n",
    "DISCOUNT = 0.9\n",
    "\n",
    "# credit earned by a car\n",
    "RENTAL_CREDIT = 10\n",
    "\n",
    "# cost of moving a car\n",
    "MOVE_CAR_COST = 2"
   ]
  },
  {
   "cell_type": "code",
   "execution_count": 5,
   "metadata": {
    "collapsed": true
   },
   "outputs": [],
   "source": [
    "# all possible states\n",
    "states = []\n",
    "\n",
    "# axes for printing use\n",
    "AxisXPrint = []\n",
    "AxisYPrint = []\n",
    "for i in range(0, MAX_CARS + 1):\n",
    "    for j in range(0, MAX_CARS + 1):\n",
    "        AxisXPrint.append(i)\n",
    "        AxisYPrint.append(j)\n",
    "        states.append((i, j))"
   ]
  },
  {
   "cell_type": "code",
   "execution_count": 6,
   "metadata": {
    "collapsed": true
   },
   "outputs": [],
   "source": [
    "# plot a policy/state value matrix\n",
    "figureIndex = 0\n",
    "def prettyPrint(data, labels, elev=25, azim=-45):\n",
    "    global figureIndex\n",
    "    figureIndex += 1\n",
    "    fig = plt.figure(figureIndex, figsize=(12, 6))\n",
    "    \n",
    "    ax = fig.add_subplot(121)\n",
    "    im = ax.matshow(data,cmap=\"jet\",origin='lower')\n",
    "    fig.colorbar(im,fraction=0.046, pad=0.04)\n",
    "    ax.set_xlabel(labels[1])\n",
    "    ax.set_ylabel(labels[0])\n",
    "    \n",
    "    ax = fig.add_subplot(122, projection='3d')\n",
    "    ax.view_init(elev, azim)\n",
    "    AxisZ = []\n",
    "    for i, j in states:\n",
    "        AxisZ.append(data[i, j])\n",
    "    ax.scatter(AxisXPrint, AxisYPrint, AxisZ)\n",
    "    ax.set_xlabel(labels[1])\n",
    "    ax.set_ylabel(labels[0])\n",
    "    ax.set_zlabel(labels[2])\n",
    "    ax.dist = 12\n",
    "    "
   ]
  },
  {
   "cell_type": "markdown",
   "metadata": {},
   "source": [
    "## Poisson random variables\n",
    "\n",
    "The probability mass function of a Poission random varabile $n$ is $P(n\\,;\\,\\lambda) = \\frac{\\lambda^n}{n!}e^{-\\lambda}$, \n",
    "where $\\lambda$ is the expected number.\n",
    "\n",
    "To avoid recomputing $P(n\\,;\\,\\lambda)$  by the function `poisson(n, lam)` for repeated values of $(n,\\lambda)$, it uses a lookup table `poissonLUT[key]` to store the corresponding value on condition that $n < 11$ (`POISSON_UP_BOUND`) where\n",
    "```python\n",
    "    key = n * 10 + lam\n",
    "```\n",
    "and `lam` is $\\lambda$. If the probability for $(n, \\lambda)$ is in the lookup table, the value from the table is returned. Otherwise, a new value is inserted in the lookup table for future references and then the value is returned."
   ]
  },
  {
   "cell_type": "code",
   "execution_count": 7,
   "metadata": {
    "collapsed": true
   },
   "outputs": [],
   "source": [
    "# An up bound for poisson distribution\n",
    "# If n is greater than this value, then the probability of getting n is truncated to 0\n",
    "POISSON_UP_BOUND = 11\n",
    "\n",
    "# Probability for poisson distribution\n",
    "# @lam: lambda should be less than 10 for this function\n",
    "poissonLUT = dict()\n",
    "def poisson(n, lam):\n",
    "    global poissonBackup\n",
    "    key = n * 10 + lam\n",
    "    if key not in poissonLUT.keys():\n",
    "        poissonLUT[key] = exp(-lam) * pow(lam, n) / factorial(n)\n",
    "    return poissonLUT[key]"
   ]
  },
  {
   "cell_type": "markdown",
   "metadata": {},
   "source": [
    "# Figure 4.2: Policy Iteration Example\n",
    "\n",
    "Print the sequence of policies found by policy iteration on Jack’s car rental problem,\n",
    "and the final state-value function. "
   ]
  },
  {
   "cell_type": "markdown",
   "metadata": {},
   "source": [
    "## Expected Return\n",
    "\n",
    "The value function of a policy $\\pi$ is found by solving the\n",
    "Bellman equation for $v_\\pi(s)$:\n",
    "\n",
    "$$\n",
    "\\begin{align}\n",
    "v_\\pi(s)\\, &=\\, E\\left[ q(s,a) \\,|\\,s \\right] \\\\\n",
    "{}\\, &=\\, \\sum_{a} \\pi(a\\,|\\,s) \\, q(s,a) \n",
    "\\end{align}\n",
    "$$\n",
    "\n",
    "where \n",
    "$$\n",
    "\\begin{align}\n",
    "q(s,a)\\, &=\\,  \\sum_{s',r} p(s',r\\,|\\,s,a) \\left[ r + \\gamma v_\\pi(s') \\right]  \\\\\n",
    "{}\\, &=\\, E\\left[ r + \\gamma v_\\pi(s') \\,|\\,s,a \\right]\n",
    "\\end{align}\n",
    "$$\n",
    "\n",
    "is the expected return at state $s$ taking action $a$. \n",
    "\n",
    "The expected return $q(s,a)$ is a functon of $s$ (`state`) and $a$ (`action`) when given $v_\\pi(s)$ (`stateValue`). It is computed by the following function `expecedReturn`.\n",
    "\n",
    "In this example, $s_\\max$ is the size of the two parking lots. For the parking lot $i \\in \\{0,1\\}$,  $s_i$ is the number of cars at the end of a day, $s'_i$ is the number of cars at the end of the next day. The action $a$ is the number of car moved from parking lot 0 to parking lot 1.\n",
    "\n",
    "Let $c_{\\text{req},i}$ be the number of car requested and $c_{\\text{ret},i}$ be the number of car returned at parking lot $i$. For $s_\\max \\ge s_i - (-1)^ia \\ge 0$, $s_i-(-1)^ia$ is the number of cars in the morning and $\\min\\left(c_{\\text{req},\\,i}\\,,\\,s_i-(-1)^ia\\right)$ is the number of cars rented on the next day. Consequently, the number of cars in the parking lot $i$ at the end of the next day is\n",
    "\n",
    "$$\n",
    "    s'_i = \\min\\left[(s_i - (-1)^ia) - \\min\\left(c_{\\text{req},\\,i}\\,,\\,s-(-1)^ia\\right) + c_{\\text{ret},\\,i}\\,,\\, s_{\\max}\\right]\n",
    "$$\n",
    "\n",
    "It is a function of the random variables $c_{\\text{req},\\,i}$ and $c_{\\text{ret},\\,i}$. Also the reward is\n",
    "\n",
    "$$\n",
    "    r = r_\\text{move} + r_{\\text{rent}} \\\\\n",
    "$$\n",
    "\n",
    "where\n",
    "\n",
    "$$\n",
    "\\begin{align}\n",
    "r_\\text{move} &= -2 \\cdot |a| \\\\ \n",
    "r_{\\text{rent}} &=  10\\cdot\\min\\left(c_{\\text{req}\\,,0}\\,,\\,s_0-a\\right) + 10\\cdot\\min\\left(c_{\\text{req},\\,1}\\,,\\,s_1+a\\right)\n",
    "\\end{align}\n",
    "$$\n",
    "\n",
    "The reward $r$ is a function of the random variables $c_{\\text{req},\\,i}$. Therefore,\n",
    "\n",
    "\n",
    "$$\n",
    "\\begin{align}\n",
    "q(s,a)\\, &=\\, E\\left[ r + \\gamma v_\\pi(s') \\,|\\,s,a \\right] \\\\ \n",
    "{}\\, &=\\, \\sum_{c_{\\text{req}}} \\sum_{c_{\\text{ret}}} p(c_{\\text{req}})p(c_{\\text{ret}}) \\left[ r + \\gamma v_\\pi(s') \\right]  \\\\\n",
    "{}\\, &=\\, \\sum_{c_{\\text{req}}} p(c_{\\text{req}}) \\left[ r + \\sum_{c_{\\text{ret}}} p(c_{\\text{ret}})\\cdot\\gamma v_\\pi(s') \\right] \\\\\n",
    "{}\\, &=\\, r_\\text{move} + \\sum_{c_{\\text{req}}} p(c_{\\text{req}}) \\left[ r_\\text{rent} + \\gamma\\sum_{c_{\\text{ret}}} p(c_{\\text{ret}})\\cdot v_\\pi(s') \\right]\n",
    "\\end{align}\n",
    "$$"
   ]
  },
  {
   "cell_type": "markdown",
   "metadata": {},
   "source": [
    "The following function `expectedReturn(state, action, stateValue)` compute $q(s,a)$ given the state value $v_\\pi(s')$"
   ]
  },
  {
   "cell_type": "code",
   "execution_count": 8,
   "metadata": {},
   "outputs": [],
   "source": [
    "# @state: [# of cars in first location, # of cars in second location]\n",
    "# @action: positive if moving cars from first location to second location,\n",
    "#          negative if moving cars from second location to first location\n",
    "# @stateValue: state value matrix\n",
    "def expectedReturn(state, action, stateValue):\n",
    "    # initailize total return\n",
    "    returns = 0.0\n",
    "\n",
    "    # cost for moving cars\n",
    "    returns -= MOVE_CAR_COST * abs(action)\n",
    "\n",
    "    # number of cars after moving cars\n",
    "    numOfCarsFirstLoc_0 = int(min(state[0] - action, MAX_CARS))\n",
    "    numOfCarsSecondLoc_0 = int(min(state[1] + action, MAX_CARS))\n",
    "    \n",
    "    # go through all possible rental requests\n",
    "    for rentalRequestFirstLoc in range(0, POISSON_UP_BOUND):\n",
    "        for rentalRequestSecondLoc in range(0, POISSON_UP_BOUND):\n",
    "            # cars when the business day begins\n",
    "            numOfCarsFirstLoc =  numOfCarsFirstLoc_0\n",
    "            numOfCarsSecondLoc = numOfCarsSecondLoc_0\n",
    "            \n",
    "            # valid rental requests should be less than actual # of cars\n",
    "            realRentalFirstLoc = min(numOfCarsFirstLoc, rentalRequestFirstLoc)\n",
    "            realRentalSecondLoc = min(numOfCarsSecondLoc, rentalRequestSecondLoc)\n",
    "\n",
    "            # get credits for renting\n",
    "            reward_rent = (realRentalFirstLoc + realRentalSecondLoc) * RENTAL_CREDIT\n",
    "            numOfCarsFirstLoc -= realRentalFirstLoc\n",
    "            numOfCarsSecondLoc -= realRentalSecondLoc\n",
    "\n",
    "            # probability for current combination of rental requests\n",
    "            prob_req = poisson(rentalRequestFirstLoc, RENTAL_REQUEST_FIRST_LOC) * \\\n",
    "                         poisson(rentalRequestSecondLoc, RENTAL_REQUEST_SECOND_LOC)\n",
    "\n",
    "            # if set True, model is simplified such that the # of cars \n",
    "            # returned in daytime becomes constant\n",
    "            # rather than a random value from poisson distribution, \n",
    "            # which will reduce calculation time\n",
    "            # and leave the optimal policy/value state matrix almost the same\n",
    "            constantReturnedCars = True\n",
    "            if constantReturnedCars:\n",
    "                # get returned cars, those cars can be used for renting tomorrow\n",
    "                returnedCarsFirstLoc = RETURNS_FIRST_LOC\n",
    "                returnedCarsSecondLoc = RETURNS_SECOND_LOC\n",
    "                numOfCarsFirstLoc = min(numOfCarsFirstLoc + returnedCarsFirstLoc, \n",
    "                                        MAX_CARS)\n",
    "                numOfCarsSecondLoc = min(numOfCarsSecondLoc + returnedCarsSecondLoc, \n",
    "                                         MAX_CARS)\n",
    "                returns += prob_req * \\\n",
    "                    (reward_rent + DISCOUNT * stateValue[numOfCarsFirstLoc, numOfCarsSecondLoc])\n",
    "            else:\n",
    "                numOfCarsFirstLoc_ = numOfCarsFirstLoc\n",
    "                numOfCarsSecondLoc_ = numOfCarsSecondLoc\n",
    "                returns_future = 0.0\n",
    "                for returnedCarsFirstLoc in range(0, POISSON_UP_BOUND):\n",
    "                    for returnedCarsSecondLoc in range(0, POISSON_UP_BOUND):\n",
    "                        numOfCarsFirstLoc = numOfCarsFirstLoc_\n",
    "                        numOfCarsSecondLoc = numOfCarsSecondLoc_\n",
    "                        numOfCarsFirstLoc = min(numOfCarsFirstLoc + returnedCarsFirstLoc, \n",
    "                                                MAX_CARS)\n",
    "                        numOfCarsSecondLoc = min(numOfCarsSecondLoc + returnedCarsSecondLoc, \n",
    "                                                 MAX_CARS)\n",
    "                        prob_ret = poisson(returnedCarsFirstLoc, RETURNS_FIRST_LOC) * \\\n",
    "                                    poisson(returnedCarsSecondLoc, RETURNS_SECOND_LOC)\n",
    "                        returns_future += prob_ret * \\\n",
    "                                    stateValue[numOfCarsFirstLoc, numOfCarsSecondLoc]\n",
    "                returns += prob_req * (reward_rent + DISCOUNT * returns_future)\n",
    "    return returns"
   ]
  },
  {
   "cell_type": "markdown",
   "metadata": {},
   "source": [
    "1. In  this particular implementation, initlialse $V(s)$ (`stateVaule[state]`) and $\\pi(s)$ (`policy[state]`) for all $s$ (`state`) to zero.\n",
    "\n",
    "2. Policy Evaluation  \n",
    "Repeat    \n",
    "$\\qquad$ For each $s \\in S$:  \n",
    "$\\qquad\\qquad v(s) \\leftarrow q(s,\\pi(s);V)$  \n",
    "$\\qquad \\Delta \\leftarrow ||v - V||_1$  \n",
    "$\\qquad V \\leftarrow v $   \n",
    "until $\\Delta < \\theta$ (a small positive number), where $q(s,\\pi(s);V)$ is computed by the function `expectedReturn(state, action, stateValue)`.\n",
    "\n",
    "3. Policy Improvement      \n",
    "For each $s \\in S$:   \n",
    "$\\qquad \\pi_{\\text{new}}(s) \\leftarrow \\mathrm{argmax}_a q(s,a;V)$   \n",
    "where $q(s,a;V)$ is computed by the function \n",
    "`expectedReturn(state, action, stateValue)`.       \n",
    "If $||\\pi_{\\text{new}} - \\pi||_1 = 0$ then     \n",
    "$\\qquad$ stop and return $V$ as $V_\\ast$ and $\\pi$ as $\\pi_\\ast$  \n",
    "else   \n",
    "$\\qquad \\pi \\leftarrow \\pi_{\\text{new}}$    \n",
    "$\\qquad$go to 2 "
   ]
  },
  {
   "cell_type": "code",
   "execution_count": null,
   "metadata": {
    "collapsed": true
   },
   "outputs": [],
   "source": [
    "def policyShow(policy,index) :\n",
    "    im = plt.matshow(policy,cmap=\"jet\",origin='lower')\n",
    "    plt.colorbar(im,fraction=0.046, pad=0.04)\n",
    "    plt.ylabel('# of cars in first location')\n",
    "    plt.xlabel('# of cars in second location')\n",
    "    plt.title('Policy at iteration {}'.format(index))\n",
    "    plt.show()\n",
    "\n",
    "@timeit\n",
    "def figure4_2() :\n",
    "    # current policy\n",
    "    policy = np.zeros((MAX_CARS + 1, MAX_CARS + 1))     \n",
    "\n",
    "    # current state value\n",
    "    stateValue = np.zeros((MAX_CARS + 1, MAX_CARS + 1))\n",
    "\n",
    "    # all possible actions\n",
    "    actions = np.arange(-MAX_MOVE_OF_CARS, MAX_MOVE_OF_CARS + 1)\n",
    "\n",
    "    newStateValue = np.zeros((MAX_CARS + 1, MAX_CARS + 1))\n",
    "    \n",
    "    policyImprovementInd = 0    \n",
    "    policyShow(policy,policyImprovementInd)\n",
    "    policyImprovementInd += 1   \n",
    "    \n",
    "    policyConverged = False        \n",
    "    while not policyConverged: \n",
    "        # start policy evaluation\n",
    "        print('Policy Evaluation ', policyImprovementInd)\n",
    "        stateValueConverged = False\n",
    "        k = 0\n",
    "        ts = time.time()\n",
    "        while not stateValueConverged :\n",
    "            for state in states:\n",
    "                newStateValue[state] = expectedReturn(\n",
    "                    state, policy[state], stateValue)\n",
    "\n",
    "            if np.sum(np.abs(newStateValue - stateValue)) < 1e-4: \n",
    "                stateValueConverged = True\n",
    "\n",
    "            stateValue[:] = newStateValue \n",
    "            k += 1\n",
    "        te = time.time()    \n",
    "        print('State value converged in {} iterations and {:.2f} seconds'\n",
    "              .format(k, te-ts))\n",
    "\n",
    "        # start policy improvement\n",
    "        print('Policy improvement', policyImprovementInd)\n",
    "        newPolicy = np.zeros((MAX_CARS + 1, MAX_CARS + 1))\n",
    "        ts = time.time()\n",
    "        for state in states:\n",
    "            actionReturns = []\n",
    "            # go through all actions and select the best one\n",
    "            for action in actions:\n",
    "                if ((action >= 0 and action <= state[0]) or \n",
    "                    (action < 0 and  abs(action) <= state[1])):\n",
    "                    actionReturns.append(\n",
    "                        expectedReturn(state, action, stateValue))\n",
    "                else:\n",
    "                    actionReturns.append(-float('inf'))\n",
    "            bestAction = np.argmax(actionReturns)\n",
    "            newPolicy[state] = actions[bestAction]\n",
    "        te = time.time()    \n",
    "        print('Policy improvment computed in {:.2f} seconds'.format(te-ts))\n",
    "\n",
    "        # if policy is stable\n",
    "        policyChanges = np.sum(newPolicy != policy)\n",
    "        print('New policy has', policyChanges, 'states changed')            \n",
    "\n",
    "        if policyChanges == 0:   \n",
    "            policyConverged = True\n",
    "        else :           \n",
    "            policy = newPolicy\n",
    "            policyShow(policy,policyImprovementInd)     \n",
    "            policyImprovementInd += 1\n",
    "            \n",
    "    labels = ['# of cars in first location', '# of cars in second location', \n",
    "              '# of cars to move during night']\n",
    "    prettyPrint(policy, labels, elev=30, azim=-15)\n",
    "    plt.show()\n",
    "\n",
    "    labels = ['# of cars in first location', '# of cars in second location', \n",
    "              'expected returns']\n",
    "    prettyPrint(stateValue, labels, elev=25, azim=-50)\n",
    "    plt.show()    "
   ]
  },
  {
   "cell_type": "code",
   "execution_count": null,
   "metadata": {},
   "outputs": [
    {
     "data": {
      "image/png": "[encoded data removed]",
      "text/plain": [
       "<matplotlib.figure.Figure at 0x7c2c940>"
      ]
     },
     "metadata": {},
     "output_type": "display_data"
    },
    {
     "name": "stdout",
     "output_type": "stream",
     "text": [
      "Policy Evaluation  1\n",
      "State value converged in 178 iterations and 24.88 seconds\n",
      "Policy improvement 1\n",
      "Policy improvment computed in 1.42 seconds\n",
      "New policy has 332 states changed\n"
     ]
    },
    {
     "data": {
      "image/png": "[encoded data removed]",
      "text/plain": [
       "<matplotlib.figure.Figure at 0x7ed0710>"
      ]
     },
     "metadata": {},
     "output_type": "display_data"
    },
    {
     "name": "stdout",
     "output_type": "stream",
     "text": [
      "Policy Evaluation  2\n"
     ]
    }
   ],
   "source": [
    "figure4_2()"
   ]
  }
 ],
 "metadata": {
  "kernelspec": {
   "display_name": "Python 2",
   "language": "python",
   "name": "python2"
  },
  "language_info": {
   "codemirror_mode": {
    "name": "ipython",
    "version": 2
   },
   "file_extension": ".py",
   "mimetype": "text/x-python",
   "name": "python",
   "nbconvert_exporter": "python",
   "pygments_lexer": "ipython2",
   "version": "2.7.13"
  }
 },
 "nbformat": 4,
 "nbformat_minor": 2
}
